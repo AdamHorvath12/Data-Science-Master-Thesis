{
 "cells": [
  {
   "cell_type": "code",
   "execution_count": 1,
   "metadata": {
    "ExecuteTime": {
     "end_time": "2021-05-17T06:54:27.082549Z",
     "start_time": "2021-05-17T06:54:24.783347Z"
    }
   },
   "outputs": [],
   "source": [
    "from PIL import Image\n",
    "import torchvision.transforms as transforms\n",
    "import torch\n",
    "import numpy as np\n",
    "import cv2\n",
    "import matplotlib.pyplot as plt\n",
    "import glob\n",
    "import collections\n",
    "import matplotlib.pyplot as plt"
   ]
  },
  {
   "cell_type": "code",
   "execution_count": 5,
   "metadata": {
    "ExecuteTime": {
     "end_time": "2021-05-06T09:32:36.308909Z",
     "start_time": "2021-05-06T09:32:36.289417Z"
    }
   },
   "outputs": [],
   "source": [
    "label_img = Image.open(\"label.png\").convert('L')\n",
    "original_img = Image.open(\"original_img.jpg\").convert('RGB')\n",
    "warp_mask = Image.open(\"warp_mask.jpg\").convert('L')"
   ]
  },
  {
   "cell_type": "code",
   "execution_count": 6,
   "metadata": {
    "ExecuteTime": {
     "end_time": "2021-05-06T09:32:36.938311Z",
     "start_time": "2021-05-06T09:32:36.924825Z"
    }
   },
   "outputs": [],
   "source": [
    "def get_transform(method=Image.BICUBIC, normalize=True):\n",
    "    transform_list = []  \n",
    "    transform_list.append(transforms.Lambda(lambda img: __scale_width(img, 512, method)))\n",
    "    osize = [256,192]\n",
    "    transform_list.append(transforms.Resize(osize, method))  \n",
    "\n",
    "    transform_list += [transforms.ToTensor()]\n",
    "\n",
    "    if normalize:\n",
    "        transform_list += [transforms.Normalize((0.5, 0.5, 0.5),\n",
    "                                                (0.5, 0.5, 0.5))]\n",
    "    return transforms.Compose(transform_list)\n",
    "\n",
    "def __scale_width(img, target_width, method=Image.BICUBIC):\n",
    "    ow, oh = img.size\n",
    "    if (ow == target_width):\n",
    "        return img    \n",
    "    w = target_width\n",
    "    h = int(target_width * oh / ow)    \n",
    "    return img.resize((w, h), method)"
   ]
  },
  {
   "cell_type": "code",
   "execution_count": 7,
   "metadata": {
    "ExecuteTime": {
     "end_time": "2021-05-06T09:32:37.692574Z",
     "start_time": "2021-05-06T09:32:37.627859Z"
    }
   },
   "outputs": [
    {
     "data": {
      "text/plain": [
       "torch.Size([1, 256, 192])"
      ]
     },
     "execution_count": 7,
     "metadata": {},
     "output_type": "execute_result"
    }
   ],
   "source": [
    "#Label images processing\n",
    "transform_A = get_transform(method=Image.NEAREST, normalize=False)\n",
    "label_tensor = transform_A(label_img) * 255.0\n",
    "label_tensor.shape"
   ]
  },
  {
   "cell_type": "code",
   "execution_count": 8,
   "metadata": {
    "ExecuteTime": {
     "end_time": "2021-05-06T09:32:38.366516Z",
     "start_time": "2021-05-06T09:32:38.348565Z"
    }
   },
   "outputs": [
    {
     "data": {
      "text/plain": [
       "torch.Size([3, 256, 192])"
      ]
     },
     "execution_count": 8,
     "metadata": {},
     "output_type": "execute_result"
    }
   ],
   "source": [
    "#original image processing\n",
    "transform_B = get_transform()\n",
    "original_tensor = transform_B(original_img)\n",
    "original_tensor.shape"
   ]
  },
  {
   "cell_type": "code",
   "execution_count": 9,
   "metadata": {
    "ExecuteTime": {
     "end_time": "2021-05-06T09:32:39.153361Z",
     "start_time": "2021-05-06T09:32:39.147378Z"
    }
   },
   "outputs": [
    {
     "data": {
      "text/plain": [
       "torch.Size([1, 256, 192])"
      ]
     },
     "execution_count": 9,
     "metadata": {},
     "output_type": "execute_result"
    }
   ],
   "source": [
    "#warp mask processing\n",
    "warp_tensor = transform_A(warp_mask) \n",
    "warp_tensor.shape"
   ]
  },
  {
   "cell_type": "code",
   "execution_count": 10,
   "metadata": {
    "ExecuteTime": {
     "end_time": "2021-05-06T09:32:39.898848Z",
     "start_time": "2021-05-06T09:32:39.882928Z"
    }
   },
   "outputs": [],
   "source": [
    "t_mask = torch.FloatTensor((label_tensor.cpu().numpy()==7).astype(np.float))\n",
    "label_tensor = label_tensor*(1-t_mask)+t_mask*4\n",
    "hair_mask = torch.FloatTensor((label_tensor.cpu().numpy()==1).astype(np.int))"
   ]
  },
  {
   "cell_type": "code",
   "execution_count": 11,
   "metadata": {
    "ExecuteTime": {
     "end_time": "2021-05-06T09:32:40.652641Z",
     "start_time": "2021-05-06T09:32:40.637681Z"
    }
   },
   "outputs": [
    {
     "data": {
      "text/plain": [
       "True"
      ]
     },
     "execution_count": 11,
     "metadata": {},
     "output_type": "execute_result"
    }
   ],
   "source": [
    "#saving the hair mask with the occlusion part for visualization\n",
    "hair_and_occlusion = warp_tensor * hair_mask\n",
    "cv_img=(hair_and_occlusion.permute(1,2,0).detach().cpu().numpy()+1)/2\n",
    "rgb=(cv_img*255).astype(np.uint8)\n",
    "bgr=cv2.cvtColor(rgb,cv2.COLOR_RGB2BGR)\n",
    "cv2.imwrite('hair_occlusion.jpg',rgb)"
   ]
  },
  {
   "cell_type": "code",
   "execution_count": 12,
   "metadata": {
    "ExecuteTime": {
     "end_time": "2021-05-06T09:32:41.420198Z",
     "start_time": "2021-05-06T09:32:41.402281Z"
    }
   },
   "outputs": [
    {
     "data": {
      "text/plain": [
       "True"
      ]
     },
     "execution_count": 12,
     "metadata": {},
     "output_type": "execute_result"
    }
   ],
   "source": [
    "#saving the occlusion part\n",
    "warp_array = warp_tensor.cpu().numpy()\n",
    "warp_array = np.where(warp_array > 0.9, 1, 0)\n",
    "warp_adjusted_tensor = torch.FloatTensor(warp_array)\n",
    "#warp_tensor = warp_tensor * hair_mask * 2 -1\n",
    "warp_final_tensor = warp_adjusted_tensor * hair_mask\n",
    "#test = hair_mask - warp_tensor\n",
    "cv_img=(warp_final_tensor.permute(1,2,0).detach().cpu().numpy()+1)/2\n",
    "rgb=(cv_img*255).astype(np.uint8)\n",
    "bgr=cv2.cvtColor(rgb,cv2.COLOR_RGB2BGR)\n",
    "cv2.imwrite('target_clothes_hair_occlusion.jpg',rgb)"
   ]
  },
  {
   "cell_type": "code",
   "execution_count": 13,
   "metadata": {
    "ExecuteTime": {
     "end_time": "2021-05-06T09:32:42.270882Z",
     "start_time": "2021-05-06T09:32:42.251933Z"
    }
   },
   "outputs": [
    {
     "data": {
      "text/plain": [
       "True"
      ]
     },
     "execution_count": 13,
     "metadata": {},
     "output_type": "execute_result"
    }
   ],
   "source": [
    "#save the original hair part which is affected in occlusion\n",
    "original_hair_occlusion = warp_final_tensor * original_tensor\n",
    "cv_img=(original_hair_occlusion.permute(1,2,0).detach().cpu().numpy()+1)/2\n",
    "rgb=(cv_img*255).astype(np.uint8)\n",
    "bgr=cv2.cvtColor(rgb,cv2.COLOR_RGB2BGR)\n",
    "cv2.imwrite('extracted_occlusion_part.jpg',bgr)"
   ]
  },
  {
   "cell_type": "code",
   "execution_count": 14,
   "metadata": {
    "ExecuteTime": {
     "end_time": "2021-05-06T09:32:43.212569Z",
     "start_time": "2021-05-06T09:32:43.191592Z"
    }
   },
   "outputs": [
    {
     "data": {
      "text/plain": [
       "True"
      ]
     },
     "execution_count": 14,
     "metadata": {},
     "output_type": "execute_result"
    }
   ],
   "source": [
    "#hair mask image \n",
    "cv_img=(hair_mask.permute(1,2,0).detach().cpu().numpy()+1)/2\n",
    "rgb=(cv_img*255).astype(np.uint8)\n",
    "bgr=cv2.cvtColor(rgb,cv2.COLOR_RGB2BGR)\n",
    "cv2.imwrite('hair_mask.jpg',bgr)"
   ]
  },
  {
   "cell_type": "code",
   "execution_count": 65,
   "metadata": {
    "ExecuteTime": {
     "end_time": "2021-05-06T12:12:03.105789Z",
     "start_time": "2021-05-06T12:12:03.082851Z"
    }
   },
   "outputs": [
    {
     "data": {
      "text/plain": [
       "True"
      ]
     },
     "execution_count": 65,
     "metadata": {},
     "output_type": "execute_result"
    }
   ],
   "source": [
    "#save the hair part\n",
    "hair_mask_img = hair_mask * original_tensor\n",
    "cv_img=(hair_mask_img.permute(1,2,0).detach().cpu().numpy()+1)/2\n",
    "rgb=(cv_img*255).astype(np.uint8)\n",
    "bgr=cv2.cvtColor(rgb,cv2.COLOR_RGB2BGR)\n",
    "cv2.imwrite('extracted_original_hair.jpg',bgr)"
   ]
  },
  {
   "cell_type": "code",
   "execution_count": 67,
   "metadata": {
    "ExecuteTime": {
     "end_time": "2021-05-06T12:12:34.499019Z",
     "start_time": "2021-05-06T12:12:34.489046Z"
    }
   },
   "outputs": [
    {
     "data": {
      "text/plain": [
       "True"
      ]
     },
     "execution_count": 67,
     "metadata": {},
     "output_type": "execute_result"
    }
   ],
   "source": [
    "upperbody_mask = torch.FloatTensor((label_tensor.cpu().numpy()==4).astype(np.int))# + torch.FloatTensor((label_tensor.cpu().numpy()==4).astype(np.int))\n",
    "upper_body = upperbody_mask * original_tensor\n",
    "cv_img=(upper_body.permute(1,2,0).detach().cpu().numpy()+1)/2\n",
    "rgb=(cv_img*255).astype(np.uint8)\n",
    "bgr=cv2.cvtColor(rgb,cv2.COLOR_RGB2BGR)\n",
    "cv2.imwrite('upperbody.jpg',bgr)"
   ]
  },
  {
   "cell_type": "code",
   "execution_count": 11,
   "metadata": {
    "ExecuteTime": {
     "end_time": "2021-05-04T14:21:45.977453Z",
     "start_time": "2021-05-04T14:21:45.964489Z"
    }
   },
   "outputs": [
    {
     "data": {
      "text/plain": [
       "True"
      ]
     },
     "execution_count": 11,
     "metadata": {},
     "output_type": "execute_result"
    }
   ],
   "source": [
    "#save the original image without hair\n",
    "original_no_hair = original_tensor - hair_mask_img\n",
    "cv_img=(original_no_hair.permute(1,2,0).detach().cpu().numpy()+1)/2\n",
    "rgb=(cv_img*255).astype(np.uint8)\n",
    "bgr=cv2.cvtColor(rgb,cv2.COLOR_RGB2BGR)\n",
    "cv2.imwrite('original_without_hair.jpg',bgr)"
   ]
  },
  {
   "cell_type": "code",
   "execution_count": 20,
   "metadata": {
    "ExecuteTime": {
     "end_time": "2021-05-04T14:26:23.534661Z",
     "start_time": "2021-05-04T14:26:23.511690Z"
    }
   },
   "outputs": [
    {
     "data": {
      "text/plain": [
       "torch.Size([3, 256, 192])"
      ]
     },
     "execution_count": 20,
     "metadata": {},
     "output_type": "execute_result"
    }
   ],
   "source": [
    "#preprocessing the new hair\n",
    "new_hair_mask = Image.open(\"new_hair_mask.jpg\").convert('RGB')\n",
    "transform_new_hair = get_transform()\n",
    "new_hair_tensor = transform_new_hair(new_hair_mask)\n",
    "new_hair_tensor.shape"
   ]
  },
  {
   "cell_type": "code",
   "execution_count": 21,
   "metadata": {
    "ExecuteTime": {
     "end_time": "2021-05-04T14:26:24.368503Z",
     "start_time": "2021-05-04T14:26:24.341612Z"
    }
   },
   "outputs": [],
   "source": [
    "#preprocessing the virtual try-on result\n",
    "virtual_try_on_result = Image.open(\"result_img_1.jpg\").convert('RGB')\n",
    "transform_result = get_transform()\n",
    "virtual_try_tensor = transform_new_hair(virtual_try_on_result)\n",
    "virtual_try_tensor.shape\n",
    "#remove the hair part\n",
    "virtual_res_no_hair = virtual_try_tensor - hair_mask_img"
   ]
  },
  {
   "cell_type": "code",
   "execution_count": 22,
   "metadata": {
    "ExecuteTime": {
     "end_time": "2021-05-04T14:26:25.469121Z",
     "start_time": "2021-05-04T14:26:25.451205Z"
    }
   },
   "outputs": [
    {
     "data": {
      "text/plain": [
       "True"
      ]
     },
     "execution_count": 22,
     "metadata": {},
     "output_type": "execute_result"
    }
   ],
   "source": [
    "#new_hair_mask_img has to be the new hair image - just the hair\n",
    "#multiply by the hair _mask is neccessary to only change the hair part on the image\n",
    "#original_no_hair image is neccessary for the other part of the body\n",
    "new_hair_mask_img = hair_mask * new_hair_tensor\n",
    "new_hair_img = new_hair_mask_img * hair_mask + virtual_res_no_hair\n",
    "cv_img=(new_hair_img.permute(1,2,0).detach().cpu().numpy()+1)/2\n",
    "rgb=(cv_img*255).astype(np.uint8)\n",
    "bgr=cv2.cvtColor(rgb,cv2.COLOR_RGB2BGR)\n",
    "cv2.imwrite('new_img.jpg',bgr)"
   ]
  },
  {
   "cell_type": "markdown",
   "metadata": {},
   "source": [
    "# Find contours part + resize it\n"
   ]
  },
  {
   "cell_type": "code",
   "execution_count": 39,
   "metadata": {
    "ExecuteTime": {
     "end_time": "2021-05-03T10:23:02.626352Z",
     "start_time": "2021-05-03T10:23:02.536340Z"
    }
   },
   "outputs": [
    {
     "data": {
      "image/png": "[encoded data removed]",
      "text/plain": [
       "<Figure size 432x288 with 1 Axes>"
      ]
     },
     "metadata": {
      "needs_background": "light"
     },
     "output_type": "display_data"
    }
   ],
   "source": [
    "import cv2\n",
    "import numpy as np\n",
    "\n",
    "import matplotlib.pyplot as plt\n",
    "\n",
    "# Reading the image\n",
    "im = cv2.imread('hair_mask.jpg')\n",
    "\n",
    "# Converting image to grayscale\n",
    "imgray = cv2.cvtColor(im, cv2.COLOR_BGR2GRAY)\n",
    "\n",
    "# Thresholding and getting contours from the image\n",
    "ret, thresh = cv2.threshold(imgray, 192, 256,cv2.THRESH_BINARY)\n",
    "contours, hierarchy = cv2.findContours(thresh, cv2.RETR_TREE, cv2.CHAIN_APPROX_SIMPLE)\n",
    "im_copy = im.copy()\n",
    "cv2.drawContours(im_copy, contours, 0, (255, 0, 0), 3)\n",
    "plt.imshow(im_copy)\n",
    "plt.axis(\"off\");"
   ]
  },
  {
   "cell_type": "code",
   "execution_count": 49,
   "metadata": {
    "ExecuteTime": {
     "end_time": "2021-05-03T11:44:31.772717Z",
     "start_time": "2021-05-03T11:44:31.768685Z"
    }
   },
   "outputs": [],
   "source": [
    "def scale_contour(cnt, scale):\n",
    "    M = cv2.moments(cnt)\n",
    "    cx = int(M['m10']/M['m00'])\n",
    "    cy = int(M['m01']/M['m00'])\n",
    "    print(cy)\n",
    "    print(cx)\n",
    "    print(M)\n",
    "    cnt_norm = cnt - [cx, cy]\n",
    "    cnt_scaled = cnt_norm * scale\n",
    "    cnt_scaled = cnt_scaled + [cx, cy]\n",
    "    cnt_scaled = cnt_scaled.astype(np.int32)\n",
    "\n",
    "    return cnt_scaled"
   ]
  },
  {
   "cell_type": "code",
   "execution_count": 50,
   "metadata": {
    "ExecuteTime": {
     "end_time": "2021-05-03T11:44:32.835097Z",
     "start_time": "2021-05-03T11:44:32.779576Z"
    },
    "scrolled": true
   },
   "outputs": [
    {
     "name": "stdout",
     "output_type": "stream",
     "text": [
      "53\n",
      "113\n",
      "{'m00': 3271.5, 'm10': 369709.1666666666, 'm01': 175646.3333333333, 'm20': 43937477.25, 'm11': 19259580.208333332, 'm02': 12363134.083333332, 'm30': 5463739304.55, 'm21': 2240858571.4, 'm12': 1325319801.6, 'm03': 958110471.2, 'mu20': 2156988.8143096194, 'mu11': -590048.2571174428, 'mu02': 2932709.3810730726, 'mu30': 10887348.680037498, 'mu21': 15223762.897713229, 'mu12': -8467260.491586149, 'mu03': -20577735.82471931, 'nu20': 0.2015366538803862, 'nu11': -0.05513072231923667, 'nu02': 0.27401553106999327, 'nu30': 0.017785038937623954, 'nu21': 0.02486879256557916, 'nu12': -0.013831701543092852, 'nu03': -0.033614780204643153}\n"
     ]
    },
    {
     "data": {
      "image/png": "[encoded data removed]",
      "text/plain": [
       "<Figure size 432x288 with 1 Axes>"
      ]
     },
     "metadata": {
      "needs_background": "light"
     },
     "output_type": "display_data"
    }
   ],
   "source": [
    "cnt_scaled = scale_contour(contours[0], 1.2)\n",
    "\n",
    "im_copy = im.copy()\n",
    "cv2.drawContours(im_copy, contours, 0, (255, 0, 0), 3)\n",
    "cv2.drawContours(im_copy, [cnt_scaled], 0, (0, 255, 0), 3)\n",
    "\n",
    "plt.imshow(im_copy)\n",
    "plt.axis(\"off\");"
   ]
  },
  {
   "cell_type": "markdown",
   "metadata": {},
   "source": [
    "# Mask coordinates"
   ]
  },
  {
   "cell_type": "code",
   "execution_count": 7,
   "metadata": {
    "ExecuteTime": {
     "end_time": "2021-05-17T07:51:13.348047Z",
     "start_time": "2021-05-17T07:51:11.952493Z"
    }
   },
   "outputs": [
    {
     "name": "stdout",
     "output_type": "stream",
     "text": [
      "[  0 128   0]\n"
     ]
    }
   ],
   "source": [
    "#this is the color what the segemntation uses\n",
    "filename = \"GREEN_RGB_TEST.png\"\n",
    "img = Image.open(filename).convert('RGB')\n",
    "img.show()\n",
    "hair_mask_color = img.getpixel((0,0))\n",
    "hair_mask_color = np.array(hair_mask_color)\n",
    "print(hair_mask_color)"
   ]
  },
  {
   "cell_type": "code",
   "execution_count": 8,
   "metadata": {
    "ExecuteTime": {
     "end_time": "2021-05-17T07:51:24.773676Z",
     "start_time": "2021-05-17T07:51:16.151875Z"
    }
   },
   "outputs": [
    {
     "data": {
      "text/plain": [
       "170"
      ]
     },
     "execution_count": 8,
     "metadata": {},
     "output_type": "execute_result"
    }
   ],
   "source": [
    "#load all the segmented images in a list and find the max pixel in vertical assigned for hair\n",
    "max_x_values = []\n",
    "for filename in glob.glob(r'C:\\Users\\Lenovo\\OneDrive\\Asztali gép\\Lalaland\\Checked_images\\Segmented_images\\*'): \n",
    "    im=Image.open(filename).convert(\"RGB\")\n",
    "    im_array = np.array(im)\n",
    "    X,Y = np.where(np.all(im_array == hair_mask_color,axis=2))\n",
    "    x_max = max(X)\n",
    "    max_x_values.append(x_max)\n",
    "max(max_x_values)"
   ]
  },
  {
   "cell_type": "code",
   "execution_count": 13,
   "metadata": {
    "ExecuteTime": {
     "end_time": "2021-05-17T07:57:03.446423Z",
     "start_time": "2021-05-17T07:57:03.231314Z"
    }
   },
   "outputs": [
    {
     "name": "stdout",
     "output_type": "stream",
     "text": [
      "5623\n"
     ]
    },
    {
     "data": {
      "text/plain": [
       "<BarContainer object of 121 artists>"
      ]
     },
     "execution_count": 13,
     "metadata": {},
     "output_type": "execute_result"
    },
    {
     "data": {
      "image/png": "[encoded data removed]",
      "text/plain": [
       "<Figure size 432x288 with 1 Axes>"
      ]
     },
     "metadata": {
      "needs_background": "light"
     },
     "output_type": "display_data"
    }
   ],
   "source": [
    "#check the standard diviation - plotting out\n",
    "print(len(max_x_values))\n",
    "w = collections.Counter(max_x_values)\n",
    "plt.bar(w.keys(), w.values())"
   ]
  },
  {
   "cell_type": "code",
   "execution_count": 61,
   "metadata": {
    "ExecuteTime": {
     "end_time": "2021-05-13T15:53:32.729128Z",
     "start_time": "2021-05-13T15:53:32.529746Z"
    }
   },
   "outputs": [],
   "source": [
    "#find the min and max value for each image in horizontal way\n",
    "min_max_horizontal = {}\n",
    "for filename in glob.glob(r'C:\\Users\\Lenovo\\OneDrive\\Asztali gép\\Lalaland\\Checked_images\\Segmented_images\\*'): #assuming gif\n",
    "    im=Image.open(filename).convert(\"RGB\")\n",
    "    im_array = np.array(im)\n",
    "    X,Y = np.where(np.all(im_array == hair_mask_color,axis=2))\n",
    "    y_min = min(Y)\n",
    "    y_max = max(Y)\n",
    "    y_value = [y_min,y_max]\n",
    "    min_max_horizontal[filename[-22:]] = y_value"
   ]
  },
  {
   "cell_type": "code",
   "execution_count": 60,
   "metadata": {
    "ExecuteTime": {
     "end_time": "2021-05-13T15:53:20.520363Z",
     "start_time": "2021-05-13T15:53:20.502401Z"
    }
   },
   "outputs": [
    {
     "name": "stdout",
     "output_type": "stream",
     "text": [
      "[43, 118]\n"
     ]
    }
   ],
   "source": [
    "print(min_max_horizontal['000003_0_segmented.png'])"
   ]
  }
 ],
 "metadata": {
  "kernelspec": {
   "display_name": "Python 3",
   "language": "python",
   "name": "python3"
  },
  "language_info": {
   "codemirror_mode": {
    "name": "ipython",
    "version": 3
   },
   "file_extension": ".py",
   "mimetype": "text/x-python",
   "name": "python",
   "nbconvert_exporter": "python",
   "pygments_lexer": "ipython3",
   "version": "3.8.5"
  }
 },
 "nbformat": 4,
 "nbformat_minor": 4
}
